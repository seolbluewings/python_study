{
 "cells": [
  {
   "cell_type": "code",
   "execution_count": 2,
   "id": "2639af19",
   "metadata": {},
   "outputs": [],
   "source": [
    "from IPython.core.pylabtools import figsize\n",
    "from matplotlib import pyplot as plt\n",
    "from scipy import stats as st\n",
    "import numpy as np"
   ]
  },
  {
   "cell_type": "code",
   "execution_count": 3,
   "id": "b803d90e",
   "metadata": {},
   "outputs": [],
   "source": [
    "camp_A = 57314\n",
    "camp_B = 38342"
   ]
  },
  {
   "cell_type": "code",
   "execution_count": 31,
   "id": "ef8b09e2",
   "metadata": {},
   "outputs": [],
   "source": [
    "conversion_A = 3709\n",
    "conversion_B = 2632"
   ]
  },
  {
   "cell_type": "code",
   "execution_count": 6,
   "id": "e2627727",
   "metadata": {},
   "outputs": [],
   "source": [
    "alpha = 1; beta = 1\n",
    "n_samples = 10000"
   ]
  },
  {
   "cell_type": "code",
   "execution_count": 32,
   "id": "083aa562",
   "metadata": {},
   "outputs": [],
   "source": [
    "post_sample_A = st.beta(alpha+conversion_A, beta+camp_A-conversion_A).rvs(10000)\n",
    "post_sample_B = st.beta(alpha+conversion_B, beta+camp_B-conversion_B).rvs(10000)"
   ]
  },
  {
   "cell_type": "code",
   "execution_count": 33,
   "id": "e87885ff",
   "metadata": {},
   "outputs": [
    {
     "name": "stdout",
     "output_type": "stream",
     "text": [
      "0.0083\n"
     ]
    }
   ],
   "source": [
    "print((post_sample_A > post_sample_B).mean())"
   ]
  },
  {
   "cell_type": "code",
   "execution_count": 34,
   "id": "90cbaa89",
   "metadata": {},
   "outputs": [
    {
     "data": {
      "text/plain": [
       "<matplotlib.legend.Legend at 0x253db269be0>"
      ]
     },
     "execution_count": 34,
     "metadata": {},
     "output_type": "execute_result"
    },
    {
     "data": {
      "image/png": "[encoded data removed]",
      "text/plain": [
       "<Figure size 432x288 with 1 Axes>"
      ]
     },
     "metadata": {
      "needs_background": "light"
     },
     "output_type": "display_data"
    }
   ],
   "source": [
    "plt.hist(post_sample_A, label = \"Campaign A\", bins = 30, histtype = 'stepfilled', alpha = 0.8)\n",
    "plt.hist(post_sample_B, label = \"Campaign B\", bins = 30, histtype = 'stepfilled', alpha = 0.8)\n",
    "plt.xlabel(\"Probability\"); plt.ylabel(\"Density\")\n",
    "plt.legend(loc = \"best\")"
   ]
  }
 ],
 "metadata": {
  "kernelspec": {
   "display_name": "Python 3 (ipykernel)",
   "language": "python",
   "name": "python3"
  },
  "language_info": {
   "codemirror_mode": {
    "name": "ipython",
    "version": 3
   },
   "file_extension": ".py",
   "mimetype": "text/x-python",
   "name": "python",
   "nbconvert_exporter": "python",
   "pygments_lexer": "ipython3",
   "version": "3.9.7"
  }
 },
 "nbformat": 4,
 "nbformat_minor": 5
}
