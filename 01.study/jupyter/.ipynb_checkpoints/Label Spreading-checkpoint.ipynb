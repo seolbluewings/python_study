{
 "cells": [
  {
   "cell_type": "code",
   "execution_count": 2,
   "id": "34f9c7f5",
   "metadata": {},
   "outputs": [],
   "source": [
    "import numpy as np\n",
    "import pandas as pd\n",
    "from sklearn import datasets\n",
    "from sklearn.semi_supervised import LabelSpreading"
   ]
  },
  {
   "cell_type": "code",
   "execution_count": 5,
   "id": "c3b94f0d",
   "metadata": {},
   "outputs": [
    {
     "name": "stdout",
     "output_type": "stream",
     "text": [
      "Total Records:  (150, 4)\n"
     ]
    }
   ],
   "source": [
    "'''\n",
    "iris 데이터셋 불러오기 \n",
    "현재 불러온 데이터셋은 iris 데이터에 대한 label 정보를 포함하고 있지는 않음\n",
    "'''\n",
    "iris = datasets.load_iris()\n",
    "print(\"Total Records: \", iris.data.shape)"
   ]
  },
  {
   "cell_type": "code",
   "execution_count": 8,
   "id": "4d60ef33",
   "metadata": {},
   "outputs": [],
   "source": [
    "''' random number를 생성하고 생성한 random number를 각 데이터 행마다 부여함'''\n",
    "rng = np.random.RandomState(50120057)"
   ]
  },
  {
   "cell_type": "code",
   "execution_count": 28,
   "id": "a18d3ebd",
   "metadata": {},
   "outputs": [],
   "source": [
    "''' 모델 정의 '''\n",
    "label_prop_model = LabelSpreading(kernel = 'knn'\n",
    "                                  , n_neighbors = 5\n",
    "                                  , alpha = 0.2\n",
    "                                  , max_iter = 30\n",
    "                                  , tol = 0.001)"
   ]
  },
  {
   "cell_type": "code",
   "execution_count": 38,
   "id": "3a8d807d",
   "metadata": {},
   "outputs": [],
   "source": [
    "''' 일부 데이터에 대한 label 강제 부여 '''\n",
    "\n",
    "random_unlabeled_points = rng.rand(iris.target.shape[0]) <= 0.7 ### 30% sample을 unlabeled 처리 하겠음\n",
    "\n",
    "''' unlabeled data처리하려는 데이터 표기 '''\n",
    "\n",
    "unlabeled = np.copy(iris.target)\n",
    "unlabeled[random_unlabeled_points] = -1"
   ]
  },
  {
   "cell_type": "code",
   "execution_count": 39,
   "id": "5d3cea2a",
   "metadata": {},
   "outputs": [
    {
     "name": "stdout",
     "output_type": "stream",
     "text": [
      "[-1 -1 -1 -1  0 -1 -1 -1 -1  0 -1 -1 -1 -1 -1 -1 -1 -1 -1 -1 -1  0 -1 -1\n",
      "  0 -1 -1 -1 -1 -1  0 -1 -1  0 -1 -1  0 -1  0 -1  0 -1  0 -1 -1 -1 -1 -1\n",
      " -1  0 -1  1 -1 -1 -1 -1 -1 -1 -1 -1 -1  1 -1  1 -1 -1 -1 -1 -1  1  1 -1\n",
      " -1 -1 -1  1 -1 -1  1 -1 -1 -1  1  1 -1 -1  1 -1 -1 -1 -1 -1 -1  1 -1  1\n",
      "  1 -1 -1 -1 -1 -1 -1 -1 -1  2 -1  2 -1  2 -1 -1 -1 -1 -1 -1  2  2  2  2\n",
      " -1 -1  2 -1 -1 -1  2 -1 -1 -1 -1 -1  2  2 -1  2 -1 -1 -1 -1 -1  2 -1 -1\n",
      " -1 -1 -1  2  2 -1]\n"
     ]
    }
   ],
   "source": [
    "print(unlabeled.T)"
   ]
  },
  {
   "cell_type": "code",
   "execution_count": 40,
   "id": "7c40eceb",
   "metadata": {},
   "outputs": [
    {
     "name": "stdout",
     "output_type": "stream",
     "text": [
      "Accuracy of Label Spreading:  100.00%\n"
     ]
    }
   ],
   "source": [
    "''' Label Spreading Model Fitting '''\n",
    "label_prop_model.fit(iris.data, unlabeled)\n",
    "\n",
    "''' unlabeled 처리된 데이터에 대한 Label Spreading 모델 기반 예측 '''\n",
    "pred_lb = label_prop_model.predict(iris.data)\n",
    "\n",
    "''' 모델로 인해 새롭게 부여된 label에 대한 정확도 검증 '''\n",
    "print(\"Accuracy of Label Spreading: \",'{:.2%}'.format(label_prop_model.score(iris.data,pred_lb)))"
   ]
  }
 ],
 "metadata": {
  "kernelspec": {
   "display_name": "Python 3 (ipykernel)",
   "language": "python",
   "name": "python3"
  },
  "language_info": {
   "codemirror_mode": {
    "name": "ipython",
    "version": 3
   },
   "file_extension": ".py",
   "mimetype": "text/x-python",
   "name": "python",
   "nbconvert_exporter": "python",
   "pygments_lexer": "ipython3",
   "version": "3.9.7"
  }
 },
 "nbformat": 4,
 "nbformat_minor": 5
}
